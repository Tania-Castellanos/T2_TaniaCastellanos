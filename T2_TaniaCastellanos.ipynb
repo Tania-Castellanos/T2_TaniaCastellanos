{
 "cells": [
  {
   "cell_type": "markdown",
   "metadata": {},
   "source": [
    "# Spotlight: ¿Por qué el entrenamiento de Python vale la pena?\n",
    "\n",
    "Los lenguajes de programación y los estilos de código han estado cambiando tan rápido que es un arduo trabajo saber cual será la mejor opción para ahorrar tiempo y dinero. Python se lleva el listón en este campo durante casi tres décadas. A pesar de esto, ¿valdrá la pena aprenderlo y usarlo?. A cntinuación se darán una serie de puntos que lo demuestran.\n",
    "\n",
    "## Lo básico de Python\n",
    "\n",
    "Empezar a usar Python es muy sencillo que puede que tu computadora de oficina ya lo tenga instalado. Si este no es el caso, su instalación es tan fácil como instalar otra aplicación. Python tiene una rango de capacidad desde propósitos generales hasta funciones de programación de alto nivel, con su amplia variedad de aplicaciones. Además, su estilo de programación permite expresar varios conceptos de programación sin código adicional. Combinando su gran librería y su compatibilidad general con la mayoría de los sistemas principales, y se tiene un lenguaje de programación que es accesible incluso para los principiantes en codificación.\n",
    "\n",
    "## Usos de Python\n",
    "\n",
    "Los frameworks de Python como Django y Flask están ganando popularidad en el desarrollo web, especialmente en crear código de back-end que se ejecuta en sus propios servidores. Flask es buena opción para los iniciados en Python, mientras que Django suele ser muy rápido para crear proyectos de desarrollo sencillos.\n",
    "\n",
    "## Una mano ayudante\n",
    "\n",
    "La capacitación en Python será de grán ayuda, ya sea para saber conceptos para principiantes o se esté pensando en dominar las aplicaciones más complejas, la capacitación proporcionará un impulso muy necesario. Además, muchos programas de capacitación se llevan a cabo en sus oficinas.\n",
    "\n",
    "## Estableciendo un nuevo lenguaje\n",
    "\n",
    "Con a capacitación adecuada será más fácil para su equipo aprender los conceptos y aplicarlos a los proyectos de la empresa. Vale la pena invertir en la formación adecuada de Python para lograr dominar este lenguaje.\n",
    "\n",
    "Wing, T. (2019, enero 3). *SPOTLIGHT: Why Python Training Is Totally Worth It*. [http://anewdomain.net/spotlight-should-you-invest-in-python-training/](http://anewdomain.net/spotlight-should-you-invest-in-python-training/)"
   ]
  },
  {
   "cell_type": "markdown",
   "metadata": {},
   "source": [
    "# Por qué Python es tan popular entre los desarrolladores: 3 razones por las que el lenguaje se ha explotado\n",
    "\n",
    "Python ha sido el lenguaje de programación con mayor crecimiento en el mundo, gracias a su amplio uso en puestos de desarrolladores o recolección de datos en la industria. ¿Cómo logró ser el lenuaje estrella para hacer el trabajo de varias tareas?\n",
    "\n",
    "## Facilidad de aprendizaje\n",
    "\n",
    "Python es clasificado como uno de los lenguajes de programación más sencillos de aprender por su sintaxis simple. Se pueden hacer funciones complejas con poco código, incluso para un iniciado, ya que se lee como el inglés. El declarar tipos de variables o los argumentos son manejados por Python y no por el usuario, por lo que hace que la programación sea más flexible y fácil de usar que otros lenguajes.\n",
    "\n",
    "## La explosión de la inteligencia artificial, el aprendizaje automático y la ciencia de datos en la empresa\n",
    "\n",
    "El crecimiento en el uso de Python ha sido más rápido en el campo de la ciencia, especialmente en la recopilación de datos, el aprendizaje automático y la inteligencia artificial. También, Python puede ser usado para DevOps, scripts de sistemas, desarrollo web y ciencia de datos.\n",
    "\n",
    "## Una gran comunidad de desarrolladores\n",
    "\n",
    "Python se usa en una gran cantidad de aplicaciones, desde IA hasta videojuegos y herramientas de productividad. Debido a esta flexibilidad tiene una enorme comunidad de desarrolladores. Tiene una basta cantidad de bibliotecas de Python de código abierto disponibles. A pesar de esto, Python puede no ser tan rápido como otros lenguajes interpretados como Java, pero lleva menos tiempo desarrollar que Java. Y al crecer y volverse más complejas las aplicaciones de Python, podría afectar la escalabilidad y la capacidad de diagnosticar errores. Sin embargo, su gran comunidad podrá solventar cualquiera de estos errores.\n",
    "\n",
    "DeNisco, A.(2018, septiembre 12). *Why Python is so popular with developers: 3 reasons the language has exploded.* [https://www.techrepublic.com/article/why-python-is-so-popular-with-developers-3-reasons-the-language-has-exploded/](https://www.techrepublic.com/article/why-python-is-so-popular-with-developers-3-reasons-the-language-has-exploded/)\n"
   ]
  },
  {
   "cell_type": "code",
   "execution_count": null,
   "metadata": {},
   "outputs": [],
   "source": []
  }
 ],
 "metadata": {
  "kernelspec": {
   "display_name": "Python 3",
   "language": "python",
   "name": "python3"
  },
  "language_info": {
   "codemirror_mode": {
    "name": "ipython",
    "version": 3
   },
   "file_extension": ".py",
   "mimetype": "text/x-python",
   "name": "python",
   "nbconvert_exporter": "python",
   "pygments_lexer": "ipython3",
   "version": "3.8.3"
  }
 },
 "nbformat": 4,
 "nbformat_minor": 4
}
